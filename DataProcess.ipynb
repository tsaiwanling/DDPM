{
 "cells": [
  {
   "cell_type": "code",
   "execution_count": 1,
   "metadata": {},
   "outputs": [],
   "source": [
    "import numpy as np\n",
    "import torch\n",
    "import torchvision\n",
    "from torchvision import transforms"
   ]
  },
  {
   "cell_type": "code",
   "execution_count": 2,
   "metadata": {},
   "outputs": [
    {
     "name": "stdout",
     "output_type": "stream",
     "text": [
      "Requirement already satisfied: dill in /home/tslin/.local/lib/python3.10/site-packages (0.3.7)\n"
     ]
    }
   ],
   "source": [
    "import os\n",
    "!pip install dill\n",
    "import dill\n",
    "device = \"cuda\" if torch.cuda.is_available() else \"cpu\""
   ]
  },
  {
   "cell_type": "markdown",
   "metadata": {},
   "source": [
    "### Mnist"
   ]
  },
  {
   "cell_type": "code",
   "execution_count": 6,
   "metadata": {},
   "outputs": [],
   "source": [
    "IMG_SIZE = 32\n",
    "#定義img_transform\n",
    "img_transform = [\n",
    "    transforms.Resize(IMG_SIZE),\n",
    "    # transforms.RandomHorizontalFlip(),\n",
    "    transforms.ToTensor(), # Scales data into [0,1]\n",
    "    transforms.Lambda(lambda x: x.to(device)),\n",
    "    transforms.Lambda(lambda t: (t * 2) - 1), # Scale between [-1, 1]\n",
    "    transforms.Lambda(lambda x: x.repeat(3, 1, 1))\n",
    "    ]\n",
    "img_transform = transforms.Compose(img_transform)\n",
    "\n",
    "dataset = torchvision.datasets.MNIST(\n",
    "    root='./mnist',\n",
    "    train=False,\n",
    "    transform = img_transform,\n",
    "    download=True\n",
    ")"
   ]
  },
  {
   "cell_type": "code",
   "execution_count": 7,
   "metadata": {},
   "outputs": [],
   "source": [
    "label_dict = {i:[] for i in range(10)}\n",
    "for i, d in enumerate(dataset):\n",
    "    for j in range(10):\n",
    "        if d[1] == j:\n",
    "            label_dict[j].append(int(i))\n",
    "# 取少量資料\n",
    "# indices = torch.arange(300) # take first 300 pictures\n",
    "indices = torch.Tensor(np.array([label_dict[i][:30] for i in range(10)]).flatten()).int() # take 30 pictures from each label\n",
    "dataset = torch.utils.data.Subset(dataset, indices)"
   ]
  },
  {
   "cell_type": "code",
   "execution_count": 8,
   "metadata": {},
   "outputs": [],
   "source": [
    "if not os.path.exists(\"./dataProcessed/\"):\n",
    "    os.makedirs(\"./dataProcessed/\")\n",
    "\n",
    "with open('./dataProcessed/mnist_dataset.pkl', 'wb') as file:\n",
    "    dill.dump(dataset, file)"
   ]
  },
  {
   "cell_type": "markdown",
   "metadata": {},
   "source": [
    "### CelebA"
   ]
  },
  {
   "cell_type": "code",
   "execution_count": 5,
   "metadata": {},
   "outputs": [],
   "source": [
    "IMG_SIZE = 64\n",
    "img_transform = [\n",
    "    transforms.CenterCrop(178),\n",
    "    transforms.Resize(IMG_SIZE),\n",
    "    transforms.RandomHorizontalFlip(),\n",
    "    transforms.ToTensor(), # Scales data into [0,1]\n",
    "    transforms.Lambda(lambda x: x.to(device)),\n",
    "    transforms.Lambda(lambda t: (t * 2) - 1) # Scale between [-1, 1]\n",
    "    ]\n",
    "img_transform = transforms.Compose(img_transform)\n",
    "\n",
    "dataset = torchvision.datasets.CelebA(\n",
    "    root='.',\n",
    "    transform = img_transform,\n",
    "    download=False\n",
    ")\n",
    "# 取少量資料\n",
    "indices = torch.arange(100)\n",
    "dataset = torch.utils.data.Subset(dataset, indices)"
   ]
  },
  {
   "cell_type": "code",
   "execution_count": 6,
   "metadata": {},
   "outputs": [],
   "source": [
    "if not os.path.exists(\"./dataProcessed/\"):\n",
    "    os.makedirs(\"./dataProcessed/\")\n",
    "\n",
    "with open('./dataProcessed/celebA_dataset.pkl', 'wb') as file:\n",
    "    dill.dump(dataset, file)"
   ]
  },
  {
   "cell_type": "markdown",
   "metadata": {},
   "source": [
    "### Cifar10"
   ]
  },
  {
   "cell_type": "code",
   "execution_count": 3,
   "metadata": {},
   "outputs": [
    {
     "name": "stdout",
     "output_type": "stream",
     "text": [
      "Downloading https://www.cs.toronto.edu/~kriz/cifar-10-python.tar.gz to ./cifar-10-python.tar.gz\n"
     ]
    },
    {
     "data": {
      "application/vnd.jupyter.widget-view+json": {
       "model_id": "5069dc61e42540e39d5b2823b4801d60",
       "version_major": 2,
       "version_minor": 0
      },
      "text/plain": [
       "  0%|          | 0/170498071 [00:00<?, ?it/s]"
      ]
     },
     "metadata": {},
     "output_type": "display_data"
    },
    {
     "name": "stdout",
     "output_type": "stream",
     "text": [
      "Extracting ./cifar-10-python.tar.gz to .\n"
     ]
    }
   ],
   "source": [
    "IMG_SIZE = 64\n",
    "img_transform = [\n",
    "    transforms.CenterCrop(178),\n",
    "    transforms.Resize(IMG_SIZE),\n",
    "    transforms.RandomHorizontalFlip(),\n",
    "    transforms.ToTensor(), # Scales data into [0,1]\n",
    "    transforms.Lambda(lambda x: x.to(device)),\n",
    "    transforms.Lambda(lambda t: (t * 2) - 1) # Scale between [-1, 1]\n",
    "    ]\n",
    "img_transform = transforms.Compose(img_transform)\n",
    "\n",
    "dataset = torchvision.datasets.CIFAR10(\n",
    "    root='.',\n",
    "    transform = img_transform,\n",
    "    download=True\n",
    ")\n",
    "# 取少量資料\n",
    "indices = torch.arange(200)\n",
    "dataset = torch.utils.data.Subset(dataset, indices)"
   ]
  },
  {
   "cell_type": "code",
   "execution_count": 4,
   "metadata": {},
   "outputs": [],
   "source": [
    "if not os.path.exists(\"./dataProcessed/\"):\n",
    "    os.makedirs(\"./dataProcessed/\")\n",
    "\n",
    "with open('./dataProcessed/cifar10_dataset.pkl', 'wb') as file:\n",
    "    dill.dump(dataset, file)"
   ]
  },
  {
   "cell_type": "code",
   "execution_count": 9,
   "metadata": {},
   "outputs": [],
   "source": [
    "def linear_beta_schedule(timesteps=100, start=1e-5, end=0.02):\n",
    "    '''\n",
    "    return a tensor of a linear schedule\n",
    "    '''\n",
    "    return torch.linspace(start, end, timesteps)\n",
    "    \n",
    "def cosine_beta_schedule(timesteps, s=0.008):\n",
    "    \"\"\"\n",
    "    cosine schedule as proposed in https://arxiv.org/abs/2102.09672\n",
    "    \"\"\"\n",
    "    steps = timesteps + 1\n",
    "    x = torch.linspace(0, timesteps, steps)\n",
    "    alphas_cumprod = torch.cos(((x / timesteps) + s) / (1 + s) * torch.pi * 0.5) ** 2\n",
    "    alphas_cumprod = alphas_cumprod / alphas_cumprod[0]\n",
    "    betas = 1 - (alphas_cumprod[1:] / alphas_cumprod[:-1])\n",
    "    return torch.clip(betas, 0.0001, 0.9999)"
   ]
  },
  {
   "cell_type": "code",
   "execution_count": 10,
   "metadata": {},
   "outputs": [],
   "source": [
    "import matplotlib.pyplot as plt"
   ]
  },
  {
   "cell_type": "code",
   "execution_count": 13,
   "metadata": {},
   "outputs": [
    {
     "data": {
      "image/png": "[encoded data removed]",
      "text/plain": [
       "<Figure size 640x480 with 1 Axes>"
      ]
     },
     "metadata": {},
     "output_type": "display_data"
    }
   ],
   "source": [
    "def alpha_cumprod_cal(betas):\n",
    "  alphas = 1-betas\n",
    "  return torch.cumprod(alphas, dim=0)\n",
    "\n",
    "T = 1000\n",
    "lin_betas = linear_beta_schedule(timesteps=T)\n",
    "cos_betas = cosine_beta_schedule(timesteps=T)\n",
    "\n",
    "plt.plot(alpha_cumprod_cal(lin_betas), label=\"linear\")\n",
    "plt.plot(alpha_cumprod_cal(cos_betas), label=\"cosine\")\n",
    "plt.legend()\n",
    "plt.show()"
   ]
  },
  {
   "cell_type": "code",
   "execution_count": null,
   "metadata": {},
   "outputs": [],
   "source": []
  }
 ],
 "metadata": {
  "kernelspec": {
   "display_name": "pytorch",
   "language": "python",
   "name": "python3"
  },
  "language_info": {
   "codemirror_mode": {
    "name": "ipython",
    "version": 3
   },
   "file_extension": ".py",
   "mimetype": "text/x-python",
   "name": "python",
   "nbconvert_exporter": "python",
   "pygments_lexer": "ipython3",
   "version": "3.10.4"
  }
 },
 "nbformat": 4,
 "nbformat_minor": 2
}
