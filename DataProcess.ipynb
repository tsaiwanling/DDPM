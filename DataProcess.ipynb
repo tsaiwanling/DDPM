{
 "cells": [
  {
   "cell_type": "code",
   "execution_count": 1,
   "metadata": {},
   "outputs": [],
   "source": [
    "import numpy as np\n",
    "import torch\n",
    "import torchvision\n",
    "from torchvision import transforms"
   ]
  },
  {
   "cell_type": "code",
   "execution_count": 2,
   "metadata": {},
   "outputs": [
    {
     "name": "stdout",
     "output_type": "stream",
     "text": [
      "Requirement already satisfied: dill in /home/tslin/.local/lib/python3.10/site-packages (0.3.7)\n"
     ]
    }
   ],
   "source": [
    "import os\n",
    "!pip install dill\n",
    "import dill\n",
    "device = \"cuda\" if torch.cuda.is_available() else \"cpu\""
   ]
  },
  {
   "cell_type": "markdown",
   "metadata": {},
   "source": [
    "### Mnist"
   ]
  },
  {
   "cell_type": "code",
   "execution_count": 3,
   "metadata": {},
   "outputs": [],
   "source": [
    "IMG_SIZE = 32\n",
    "#定義img_transform\n",
    "img_transform = [\n",
    "    transforms.Resize(IMG_SIZE),\n",
    "    # transforms.RandomHorizontalFlip(),\n",
    "    transforms.ToTensor(), # Scales data into [0,1]\n",
    "    transforms.Lambda(lambda x: x.to(device)),\n",
    "    transforms.Lambda(lambda t: (t * 2) - 1), # Scale between [-1, 1]\n",
    "    transforms.Lambda(lambda x: x.repeat(3, 1, 1))\n",
    "    ]\n",
    "img_transform = transforms.Compose(img_transform)\n",
    "\n",
    "dataset = torchvision.datasets.MNIST(\n",
    "    root='./mnist',\n",
    "    train=False,\n",
    "    transform = img_transform,\n",
    "    download=True\n",
    ")"
   ]
  },
  {
   "cell_type": "code",
   "execution_count": 4,
   "metadata": {},
   "outputs": [],
   "source": [
    "label_dict = {i:[] for i in range(10)}\n",
    "for i, d in enumerate(dataset):\n",
    "    for j in range(10):\n",
    "        if d[1] == j:\n",
    "            label_dict[j].append(int(i))\n",
    "# 取少量資料\n",
    "indices = torch.arange(300) # take first 300 pictures\n",
    "# indices = torch.Tensor(np.array([label_dict[i][:30] for i in range(10)]).flatten()).int() # take 30 pictures from each label\n",
    "dataset = torch.utils.data.Subset(dataset, indices)"
   ]
  },
  {
   "cell_type": "code",
   "execution_count": 5,
   "metadata": {},
   "outputs": [
    {
     "name": "stdout",
     "output_type": "stream",
     "text": [
      "Defaulting to user installation because normal site-packages is not writeable\n",
      "Requirement already satisfied: dill in /home/tslin/.local/lib/python3.10/site-packages (0.3.7)\n"
     ]
    }
   ],
   "source": [
    "if not os.path.exists(\"./dataProcessed/\"):\n",
    "    os.makedirs(\"./dataProcessed/\")\n",
    "\n",
    "with open('./dataProcessed/mnist_dataset.pkl', 'wb') as file:\n",
    "    dill.dump(dataset, file)"
   ]
  },
  {
   "cell_type": "markdown",
   "metadata": {},
   "source": [
    "### CelebA"
   ]
  },
  {
   "cell_type": "code",
   "execution_count": 5,
   "metadata": {},
   "outputs": [],
   "source": [
    "IMG_SIZE = 64\n",
    "img_transform = [\n",
    "    transforms.CenterCrop(178),\n",
    "    transforms.Resize(IMG_SIZE),\n",
    "    transforms.RandomHorizontalFlip(),\n",
    "    transforms.ToTensor(), # Scales data into [0,1]\n",
    "    transforms.Lambda(lambda x: x.to(device)),\n",
    "    transforms.Lambda(lambda t: (t * 2) - 1) # Scale between [-1, 1]\n",
    "    ]\n",
    "img_transform = transforms.Compose(img_transform)\n",
    "\n",
    "dataset = torchvision.datasets.CelebA(\n",
    "    root='.',\n",
    "    transform = img_transform,\n",
    "    download=False\n",
    ")\n",
    "# 取少量資料\n",
    "indices = torch.arange(100)\n",
    "dataset = torch.utils.data.Subset(dataset, indices)"
   ]
  },
  {
   "cell_type": "code",
   "execution_count": 6,
   "metadata": {},
   "outputs": [],
   "source": [
    "if not os.path.exists(\"./dataProcessed/\"):\n",
    "    os.makedirs(\"./dataProcessed/\")\n",
    "\n",
    "with open('./dataProcessed/celebA_dataset.pkl', 'wb') as file:\n",
    "    dill.dump(dataset, file)"
   ]
  }
 ],
 "metadata": {
  "kernelspec": {
   "display_name": "pytorch",
   "language": "python",
   "name": "python3"
  },
  "language_info": {
   "codemirror_mode": {
    "name": "ipython",
    "version": 3
   },
   "file_extension": ".py",
   "mimetype": "text/x-python",
   "name": "python",
   "nbconvert_exporter": "python",
   "pygments_lexer": "ipython3",
   "version": "3.10.4"
  }
 },
 "nbformat": 4,
 "nbformat_minor": 2
}
